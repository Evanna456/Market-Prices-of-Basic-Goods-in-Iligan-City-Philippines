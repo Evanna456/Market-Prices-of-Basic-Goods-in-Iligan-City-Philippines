{
 "cells": [
  {
   "cell_type": "markdown",
   "id": "a9188a64",
   "metadata": {},
   "source": [
    "Data Source: \n",
    "My weekly price monitoring while restocking for our eatery business"
   ]
  },
  {
   "cell_type": "code",
   "execution_count": 13,
   "id": "a7074438",
   "metadata": {},
   "outputs": [
    {
     "data": {
      "text/html": [
       "\n",
       "<style>\n",
       "    div.output_scroll {height:100%}\n",
       "</style>\n"
      ],
      "text/plain": [
       "<IPython.core.display.HTML object>"
      ]
     },
     "metadata": {},
     "output_type": "display_data"
    }
   ],
   "source": [
    "import pandas as pd\n",
    "import numpy as np\n",
    "import datetime as dt\n",
    "pd.set_option('display.max_columns', None)\n",
    "%matplotlib inline\n",
    "\n",
    "from IPython.display import display, HTML\n",
    "\n",
    "display(HTML(data=\"\"\"\n",
    "<style>\n",
    "    div.output_scroll {height:100%}\n",
    "</style>\n",
    "\"\"\"))"
   ]
  },
  {
   "cell_type": "code",
   "execution_count": 14,
   "id": "91b1dd4a",
   "metadata": {},
   "outputs": [],
   "source": [
    "df = pd.read_csv(\"./data/Iligan Market.csv\").dropna()"
   ]
  },
  {
   "cell_type": "code",
   "execution_count": 15,
   "id": "66a3bbe5",
   "metadata": {},
   "outputs": [
    {
     "data": {
      "text/html": [
       "<div>\n",
       "<style scoped>\n",
       "    .dataframe tbody tr th:only-of-type {\n",
       "        vertical-align: middle;\n",
       "    }\n",
       "\n",
       "    .dataframe tbody tr th {\n",
       "        vertical-align: top;\n",
       "    }\n",
       "\n",
       "    .dataframe thead th {\n",
       "        text-align: right;\n",
       "    }\n",
       "</style>\n",
       "<table border=\"1\" class=\"dataframe\">\n",
       "  <thead>\n",
       "    <tr style=\"text-align: right;\">\n",
       "      <th></th>\n",
       "      <th>Date</th>\n",
       "      <th>Rice (Princess Bea)</th>\n",
       "      <th>Onion (1 Kilo)</th>\n",
       "      <th>Garlic (1 Kilo)</th>\n",
       "      <th>Potato (1 Kilo)</th>\n",
       "      <th>Carrot (1 Kilo)</th>\n",
       "      <th>Pork Chop (1 Kilo)</th>\n",
       "      <th>Chicken (1 Whole)</th>\n",
       "      <th>Large Egg (1 Dozen)</th>\n",
       "      <th>Bangus Fish (1 Kilo)</th>\n",
       "      <th>Gutob Fish(1 Kilo)</th>\n",
       "      <th>White Sugar (1 Kilo)</th>\n",
       "    </tr>\n",
       "  </thead>\n",
       "  <tbody>\n",
       "    <tr>\n",
       "      <th>0</th>\n",
       "      <td>3/25/2023</td>\n",
       "      <td>45.0</td>\n",
       "      <td>120.0</td>\n",
       "      <td>100.0</td>\n",
       "      <td>None</td>\n",
       "      <td>None</td>\n",
       "      <td>None</td>\n",
       "      <td>None</td>\n",
       "      <td>108.0</td>\n",
       "      <td>200.0</td>\n",
       "      <td>150.0</td>\n",
       "      <td>None</td>\n",
       "    </tr>\n",
       "    <tr>\n",
       "      <th>1</th>\n",
       "      <td>4/1/2023</td>\n",
       "      <td>45.0</td>\n",
       "      <td>100.0</td>\n",
       "      <td>100.0</td>\n",
       "      <td>95.00</td>\n",
       "      <td>40.00</td>\n",
       "      <td>398.00</td>\n",
       "      <td>215.00</td>\n",
       "      <td>95.0</td>\n",
       "      <td>200.0</td>\n",
       "      <td>180.0</td>\n",
       "      <td>104.45</td>\n",
       "    </tr>\n",
       "  </tbody>\n",
       "</table>\n",
       "</div>"
      ],
      "text/plain": [
       "        Date  Rice (Princess Bea)  Onion (1 Kilo)  Garlic (1 Kilo)  \\\n",
       "0  3/25/2023                 45.0           120.0            100.0   \n",
       "1   4/1/2023                 45.0           100.0            100.0   \n",
       "\n",
       "  Potato (1 Kilo) Carrot (1 Kilo) Pork Chop (1 Kilo) Chicken (1 Whole)  \\\n",
       "0            None            None               None              None   \n",
       "1           95.00           40.00             398.00            215.00   \n",
       "\n",
       "   Large Egg (1 Dozen)  Bangus Fish (1 Kilo)  Gutob Fish(1 Kilo)  \\\n",
       "0                108.0                 200.0               150.0   \n",
       "1                 95.0                 200.0               180.0   \n",
       "\n",
       "  White Sugar (1 Kilo)   \n",
       "0                  None  \n",
       "1                104.45  "
      ]
     },
     "execution_count": 15,
     "metadata": {},
     "output_type": "execute_result"
    }
   ],
   "source": [
    "df"
   ]
  },
  {
   "cell_type": "code",
   "execution_count": null,
   "id": "3aec2365",
   "metadata": {},
   "outputs": [],
   "source": []
  }
 ],
 "metadata": {
  "kernelspec": {
   "display_name": "Python 3 (ipykernel)",
   "language": "python",
   "name": "python3"
  },
  "language_info": {
   "codemirror_mode": {
    "name": "ipython",
    "version": 3
   },
   "file_extension": ".py",
   "mimetype": "text/x-python",
   "name": "python",
   "nbconvert_exporter": "python",
   "pygments_lexer": "ipython3",
   "version": "3.11.2"
  }
 },
 "nbformat": 4,
 "nbformat_minor": 5
}
